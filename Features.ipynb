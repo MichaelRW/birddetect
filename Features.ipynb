{
 "cells": [
  {
   "cell_type": "code",
   "execution_count": 1,
   "metadata": {},
   "outputs": [],
   "source": [
    "%matplotlib inline\n",
    "\n",
    "import os\n",
    "import time\n",
    "\n",
    "import librosa\n",
    "import librosa.display\n",
    "\n",
    "import pandas\n",
    "import numpy\n",
    "import sklearn\n",
    "import scipy.ndimage\n",
    "\n",
    "import IPython\n",
    "import matplotlib.pyplot as plt\n",
    "\n",
    "# Custom modules\n",
    "import dcase2018bad\n",
    "import features"
   ]
  },
  {
   "cell_type": "code",
   "execution_count": 2,
   "metadata": {},
   "outputs": [
    {
     "name": "stdout",
     "output_type": "stream",
     "text": [
      "(48310, 4)\n"
     ]
    },
    {
     "data": {
      "text/html": [
       "<div>\n",
       "<style scoped>\n",
       "    .dataframe tbody tr th:only-of-type {\n",
       "        vertical-align: middle;\n",
       "    }\n",
       "\n",
       "    .dataframe tbody tr th {\n",
       "        vertical-align: top;\n",
       "    }\n",
       "\n",
       "    .dataframe thead th {\n",
       "        text-align: right;\n",
       "    }\n",
       "</style>\n",
       "<table border=\"1\" class=\"dataframe\">\n",
       "  <thead>\n",
       "    <tr style=\"text-align: right;\">\n",
       "      <th></th>\n",
       "      <th>itemid</th>\n",
       "      <th>datasetid</th>\n",
       "      <th>hasbird</th>\n",
       "      <th>folder</th>\n",
       "    </tr>\n",
       "  </thead>\n",
       "  <tbody>\n",
       "    <tr>\n",
       "      <th>0</th>\n",
       "      <td>BUK4_20161103_204504_125</td>\n",
       "      <td>PolandNFC</td>\n",
       "      <td>NaN</td>\n",
       "      <td>polandnfc</td>\n",
       "    </tr>\n",
       "    <tr>\n",
       "      <th>1</th>\n",
       "      <td>BUK4_20161016_012704_132</td>\n",
       "      <td>PolandNFC</td>\n",
       "      <td>NaN</td>\n",
       "      <td>polandnfc</td>\n",
       "    </tr>\n",
       "    <tr>\n",
       "      <th>2</th>\n",
       "      <td>6wichura_deszcz_BUK4_20161005_022304_129</td>\n",
       "      <td>PolandNFC</td>\n",
       "      <td>NaN</td>\n",
       "      <td>polandnfc</td>\n",
       "    </tr>\n",
       "  </tbody>\n",
       "</table>\n",
       "</div>"
      ],
      "text/plain": [
       "                                     itemid  datasetid  hasbird     folder\n",
       "0                  BUK4_20161103_204504_125  PolandNFC      NaN  polandnfc\n",
       "1                  BUK4_20161016_012704_132  PolandNFC      NaN  polandnfc\n",
       "2  6wichura_deszcz_BUK4_20161005_022304_129  PolandNFC      NaN  polandnfc"
      ]
     },
     "execution_count": 2,
     "metadata": {},
     "output_type": "execute_result"
    }
   ],
   "source": [
    "dataset = dcase2018bad.load_dataset()\n",
    "print(dataset.shape)\n",
    "dataset.head(3)"
   ]
  },
  {
   "cell_type": "code",
   "execution_count": null,
   "metadata": {},
   "outputs": [],
   "source": []
  }
 ],
 "metadata": {
  "kernelspec": {
   "display_name": "Python 3",
   "language": "python",
   "name": "python3"
  },
  "language_info": {
   "codemirror_mode": {
    "name": "ipython",
    "version": 3
   },
   "file_extension": ".py",
   "mimetype": "text/x-python",
   "name": "python",
   "nbconvert_exporter": "python",
   "pygments_lexer": "ipython3",
   "version": "3.7.1"
  }
 },
 "nbformat": 4,
 "nbformat_minor": 2
}
