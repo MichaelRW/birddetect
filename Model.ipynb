{
 "cells": [
  {
   "cell_type": "code",
   "execution_count": 1,
   "metadata": {},
   "outputs": [
    {
     "name": "stderr",
     "output_type": "stream",
     "text": [
      "/usr/lib/python3.7/site-packages/sklearn/ensemble/weight_boosting.py:29: DeprecationWarning: numpy.core.umath_tests is an internal NumPy module and should not be imported. It will be removed in a future NumPy release.\n",
      "  from numpy.core.umath_tests import inner1d\n"
     ]
    }
   ],
   "source": [
    "%matplotlib inline\n",
    "%load_ext autoreload\n",
    "%autoreload 2\n",
    "\n",
    "import time\n",
    "import tarfile\n",
    "import re\n",
    "import io\n",
    "\n",
    "import numpy\n",
    "import pandas\n",
    "import matplotlib.pyplot as plt\n",
    "import dask.array\n",
    "\n",
    "import sklearn\n",
    "from sklearn.pipeline import Pipeline, make_pipeline\n",
    "from sklearn.ensemble import RandomForestClassifier\n",
    "from sklearn import model_selection\n",
    "from sklearn import metrics\n",
    "\n",
    "# Custom modules\n",
    "import dcase2018bad\n",
    "import features"
   ]
  },
  {
   "cell_type": "markdown",
   "metadata": {},
   "source": [
    "# Load dataset"
   ]
  },
  {
   "cell_type": "code",
   "execution_count": 2,
   "metadata": {},
   "outputs": [
    {
     "name": "stdout",
     "output_type": "stream",
     "text": [
      "(48310, 4)\n"
     ]
    },
    {
     "data": {
      "text/html": [
       "<div>\n",
       "<style scoped>\n",
       "    .dataframe tbody tr th:only-of-type {\n",
       "        vertical-align: middle;\n",
       "    }\n",
       "\n",
       "    .dataframe tbody tr th {\n",
       "        vertical-align: top;\n",
       "    }\n",
       "\n",
       "    .dataframe thead th {\n",
       "        text-align: right;\n",
       "    }\n",
       "</style>\n",
       "<table border=\"1\" class=\"dataframe\">\n",
       "  <thead>\n",
       "    <tr style=\"text-align: right;\">\n",
       "      <th></th>\n",
       "      <th>itemid</th>\n",
       "      <th>datasetid</th>\n",
       "      <th>hasbird</th>\n",
       "      <th>folder</th>\n",
       "    </tr>\n",
       "  </thead>\n",
       "  <tbody>\n",
       "    <tr>\n",
       "      <th>0</th>\n",
       "      <td>BUK4_20161103_204504_125</td>\n",
       "      <td>PolandNFC</td>\n",
       "      <td>NaN</td>\n",
       "      <td>polandnfc</td>\n",
       "    </tr>\n",
       "    <tr>\n",
       "      <th>1</th>\n",
       "      <td>BUK4_20161016_012704_132</td>\n",
       "      <td>PolandNFC</td>\n",
       "      <td>NaN</td>\n",
       "      <td>polandnfc</td>\n",
       "    </tr>\n",
       "    <tr>\n",
       "      <th>2</th>\n",
       "      <td>6wichura_deszcz_BUK4_20161005_022304_129</td>\n",
       "      <td>PolandNFC</td>\n",
       "      <td>NaN</td>\n",
       "      <td>polandnfc</td>\n",
       "    </tr>\n",
       "  </tbody>\n",
       "</table>\n",
       "</div>"
      ],
      "text/plain": [
       "                                     itemid  datasetid  hasbird     folder\n",
       "0                  BUK4_20161103_204504_125  PolandNFC      NaN  polandnfc\n",
       "1                  BUK4_20161016_012704_132  PolandNFC      NaN  polandnfc\n",
       "2  6wichura_deszcz_BUK4_20161005_022304_129  PolandNFC      NaN  polandnfc"
      ]
     },
     "execution_count": 2,
     "metadata": {},
     "output_type": "execute_result"
    }
   ],
   "source": [
    "dataset = dcase2018bad.load_dataset()\n",
    "print(dataset.shape)\n",
    "dataset.head(3)"
   ]
  },
  {
   "cell_type": "code",
   "execution_count": 3,
   "metadata": {},
   "outputs": [
    {
     "name": "stdout",
     "output_type": "stream",
     "text": [
      "(35690, 4)\n"
     ]
    },
    {
     "data": {
      "text/html": [
       "<div>\n",
       "<style scoped>\n",
       "    .dataframe tbody tr th:only-of-type {\n",
       "        vertical-align: middle;\n",
       "    }\n",
       "\n",
       "    .dataframe tbody tr th {\n",
       "        vertical-align: top;\n",
       "    }\n",
       "\n",
       "    .dataframe thead th {\n",
       "        text-align: right;\n",
       "    }\n",
       "</style>\n",
       "<table border=\"1\" class=\"dataframe\">\n",
       "  <thead>\n",
       "    <tr style=\"text-align: right;\">\n",
       "      <th></th>\n",
       "      <th>itemid</th>\n",
       "      <th>datasetid</th>\n",
       "      <th>hasbird</th>\n",
       "      <th>folder</th>\n",
       "    </tr>\n",
       "  </thead>\n",
       "  <tbody>\n",
       "    <tr>\n",
       "      <th>0</th>\n",
       "      <td>00053d90-e4b9-4045-a2f1-f39efc90cfa9</td>\n",
       "      <td>BirdVox-DCASE-20k</td>\n",
       "      <td>True</td>\n",
       "      <td>birdvox</td>\n",
       "    </tr>\n",
       "    <tr>\n",
       "      <th>0</th>\n",
       "      <td>64486</td>\n",
       "      <td>ff1010bird</td>\n",
       "      <td>False</td>\n",
       "      <td>ff1010bird</td>\n",
       "    </tr>\n",
       "    <tr>\n",
       "      <th>0</th>\n",
       "      <td>759808e5-f824-401e-9058</td>\n",
       "      <td>warblrb10k</td>\n",
       "      <td>True</td>\n",
       "      <td>warblr10k_public</td>\n",
       "    </tr>\n",
       "  </tbody>\n",
       "</table>\n",
       "</div>"
      ],
      "text/plain": [
       "                                 itemid          datasetid  hasbird  \\\n",
       "0  00053d90-e4b9-4045-a2f1-f39efc90cfa9  BirdVox-DCASE-20k     True   \n",
       "0                                 64486         ff1010bird    False   \n",
       "0               759808e5-f824-401e-9058         warblrb10k     True   \n",
       "\n",
       "             folder  \n",
       "0           birdvox  \n",
       "0        ff1010bird  \n",
       "0  warblr10k_public  "
      ]
     },
     "execution_count": 3,
     "metadata": {},
     "output_type": "execute_result"
    }
   ],
   "source": [
    "trainset = dataset[dataset.hasbird.notna()].copy()\n",
    "print(trainset.shape)\n",
    "trainset['hasbird'] = trainset.hasbird.astype(bool)\n",
    "trainset.groupby('folder').head(1)"
   ]
  },
  {
   "cell_type": "code",
   "execution_count": 4,
   "metadata": {},
   "outputs": [
    {
     "name": "stdout",
     "output_type": "stream",
     "text": [
      "(12620, 4)\n"
     ]
    },
    {
     "data": {
      "text/html": [
       "<div>\n",
       "<style scoped>\n",
       "    .dataframe tbody tr th:only-of-type {\n",
       "        vertical-align: middle;\n",
       "    }\n",
       "\n",
       "    .dataframe tbody tr th {\n",
       "        vertical-align: top;\n",
       "    }\n",
       "\n",
       "    .dataframe thead th {\n",
       "        text-align: right;\n",
       "    }\n",
       "</style>\n",
       "<table border=\"1\" class=\"dataframe\">\n",
       "  <thead>\n",
       "    <tr style=\"text-align: right;\">\n",
       "      <th></th>\n",
       "      <th>itemid</th>\n",
       "      <th>datasetid</th>\n",
       "      <th>hasbird</th>\n",
       "      <th>folder</th>\n",
       "    </tr>\n",
       "  </thead>\n",
       "  <tbody>\n",
       "    <tr>\n",
       "      <th>0</th>\n",
       "      <td>BUK4_20161103_204504_125</td>\n",
       "      <td>PolandNFC</td>\n",
       "      <td>NaN</td>\n",
       "      <td>polandnfc</td>\n",
       "    </tr>\n",
       "    <tr>\n",
       "      <th>0</th>\n",
       "      <td>64dbf3fd-bb82-4d76-b40e</td>\n",
       "      <td>chern</td>\n",
       "      <td>NaN</td>\n",
       "      <td>chern</td>\n",
       "    </tr>\n",
       "    <tr>\n",
       "      <th>0</th>\n",
       "      <td>7ac6b210-51cb-4708-adfb</td>\n",
       "      <td>wabrlrb10k_test</td>\n",
       "      <td>NaN</td>\n",
       "      <td>warblr10k_test</td>\n",
       "    </tr>\n",
       "  </tbody>\n",
       "</table>\n",
       "</div>"
      ],
      "text/plain": [
       "                     itemid        datasetid  hasbird          folder\n",
       "0  BUK4_20161103_204504_125        PolandNFC      NaN       polandnfc\n",
       "0   64dbf3fd-bb82-4d76-b40e            chern      NaN           chern\n",
       "0   7ac6b210-51cb-4708-adfb  wabrlrb10k_test      NaN  warblr10k_test"
      ]
     },
     "execution_count": 4,
     "metadata": {},
     "output_type": "execute_result"
    }
   ],
   "source": [
    "evalset = dataset[dataset.hasbird.isna()].copy()\n",
    "print(evalset.shape)\n",
    "del dataset\n",
    "evalset.groupby('folder').head(1)"
   ]
  },
  {
   "cell_type": "markdown",
   "metadata": {},
   "source": [
    "# Feature extraction"
   ]
  },
  {
   "cell_type": "code",
   "execution_count": 5,
   "metadata": {},
   "outputs": [
    {
     "data": {
      "text/html": [
       "<table style=\"border: 2px solid white;\">\n",
       "<tr>\n",
       "<td style=\"vertical-align: top; border: 0px solid white\">\n",
       "<h3>Client</h3>\n",
       "<ul>\n",
       "  <li><b>Scheduler: </b>tcp://35.242.172.90:8786\n",
       "  <li><b>Dashboard: </b><a href='http://35.242.172.90:8787/status' target='_blank'>http://35.242.172.90:8787/status</a>\n",
       "</ul>\n",
       "</td>\n",
       "<td style=\"vertical-align: top; border: 0px solid white\">\n",
       "<h3>Cluster</h3>\n",
       "<ul>\n",
       "  <li><b>Workers: </b>4</li>\n",
       "  <li><b>Cores: </b>8</li>\n",
       "  <li><b>Memory: </b>7.53 GB</li>\n",
       "</ul>\n",
       "</td>\n",
       "</tr>\n",
       "</table>"
      ],
      "text/plain": [
       "<Client: scheduler='tcp://10.48.4.27:8786' processes=4 cores=8>"
      ]
     },
     "execution_count": 5,
     "metadata": {},
     "output_type": "execute_result"
    }
   ],
   "source": [
    "import dask.distributed\n",
    "scheduler_address = '35.242.172.90:8786'\n",
    "c = dask.distributed.Client(scheduler_address)\n",
    "c"
   ]
  },
  {
   "cell_type": "code",
   "execution_count": 6,
   "metadata": {},
   "outputs": [],
   "source": [
    "c.upload_file('features.py')\n",
    "c.upload_file('dcase2018bad.py')"
   ]
  },
  {
   "cell_type": "code",
   "execution_count": 23,
   "metadata": {},
   "outputs": [
    {
     "data": {
      "text/plain": [
       "dask.array<concatenate, shape=(35700, 64), dtype=float64, chunksize=(50, 64)>"
      ]
     },
     "execution_count": 23,
     "metadata": {},
     "output_type": "execute_result"
    }
   ],
   "source": [
    "train_F = features.extract(dcase2018bad.wav_urls(trainset))\n",
    "train_F"
   ]
  },
  {
   "cell_type": "code",
   "execution_count": 24,
   "metadata": {},
   "outputs": [],
   "source": [
    "if False:\n",
    "    # TEMP: subsample for quicker testing\n",
    "    sub = sample_chunkwise(train_X, 0.01)\n",
    "    _train_F = train_F\n",
    "    train_F = _train_F[sub,:]\n",
    "    train_Y = trainset.iloc[sub].hasbird\n",
    "else:\n",
    "    train_Y = trainset.hasbird"
   ]
  },
  {
   "cell_type": "markdown",
   "metadata": {},
   "source": [
    "### Compute features"
   ]
  },
  {
   "cell_type": "code",
   "execution_count": 25,
   "metadata": {},
   "outputs": [
    {
     "data": {
      "text/plain": [
       "array([4.42485034e-01, 3.59241465e-01, 3.17188576e-01, 2.04637591e-01,\n",
       "       4.12524190e-01, 2.58340449e-01, 4.42977160e-01, 1.87095160e-01,\n",
       "       2.48387205e-01, 1.72009477e-01, 3.48023945e-01, 4.47225595e-01,\n",
       "       4.68187764e-01, 3.15744833e-01, 7.46314851e-01, 1.00000000e+00,\n",
       "       3.30624341e-01, 1.13837092e-01, 2.14221469e-01, 4.88002863e-01,\n",
       "       1.00000000e+00, 1.00000000e+00, 2.99592239e-01, 8.96466825e-01,\n",
       "       4.93006895e-01, 2.06181034e-01, 1.39237223e-01, 1.89311828e-01,\n",
       "       1.63093913e-01, 1.45103495e-01, 2.08930718e-01, 3.78429665e-01,\n",
       "       4.07082901e-01, 7.88849402e-01, 1.00000000e+00, 1.00000000e+00,\n",
       "       8.14479537e-01, 4.52259986e-01, 2.27068266e-01, 1.36656770e-01,\n",
       "       1.65054000e-01, 1.12763795e-01, 1.55173261e-01, 1.40202217e-01,\n",
       "       2.93130885e-01, 1.19175711e-01, 1.00000000e+00, 9.61103796e-01,\n",
       "       1.81041924e-01, 1.48358912e-01, 1.25898345e-01, 1.18783293e-01,\n",
       "       8.15355188e-02, 7.72337381e-02, 5.14123465e-02, 3.18591472e-02,\n",
       "       1.48202110e-02, 5.33396511e-03, 3.90613581e-04, 8.85429449e-07,\n",
       "       4.48713605e-07, 1.72866740e-07, 2.23240526e-08, 3.40963616e-08])"
      ]
     },
     "execution_count": 25,
     "metadata": {},
     "output_type": "execute_result"
    }
   ],
   "source": [
    "#train_F = train_F.persist()\n",
    "train_X = train_F.compute()\n",
    "train_X[0,:]"
   ]
  },
  {
   "cell_type": "code",
   "execution_count": 26,
   "metadata": {},
   "outputs": [],
   "source": [
    "train_X = train_X[:35690] "
   ]
  },
  {
   "cell_type": "markdown",
   "metadata": {},
   "source": [
    "# Model"
   ]
  },
  {
   "cell_type": "code",
   "execution_count": 27,
   "metadata": {},
   "outputs": [
    {
     "name": "stdout",
     "output_type": "stream",
     "text": [
      "Starting train (24983, 64) 0.5048232798302846\n",
      "Train time 70.53949069976807\n",
      "train [0.85059628 0.8534503  0.85257123]\n",
      "test [0.84328148 0.83735134 0.83947204]\n"
     ]
    }
   ],
   "source": [
    "rf = make_pipeline(\n",
    "    RandomForestClassifier(n_estimators=100, min_samples_leaf=2, random_state=1),\n",
    ")\n",
    "\n",
    "X_train, X_test, Y_train, Y_test = model_selection.train_test_split(train_X, train_Y, test_size=0.3)\n",
    "\n",
    "start = time.time()\n",
    "print('Starting train', X_train.shape, numpy.mean(Y_train))\n",
    "rf.fit(X_train, Y_train)\n",
    "end = time.time()\n",
    "print('Train time', end-start)\n",
    "\n",
    "print('train', model_selection.cross_val_score(rf, X_train, Y_train, scoring='roc_auc', cv=3))\n",
    "print('test', model_selection.cross_val_score(rf, X_test, Y_test, scoring='roc_auc', cv=3))\n",
    "\n",
    "#evaluate_model(rf, split)"
   ]
  },
  {
   "cell_type": "code",
   "execution_count": 29,
   "metadata": {},
   "outputs": [
    {
     "data": {
      "text/plain": [
       "dask.array<concatenate, shape=(12650, 64), dtype=float64, chunksize=(50, 64)>"
      ]
     },
     "execution_count": 29,
     "metadata": {},
     "output_type": "execute_result"
    }
   ],
   "source": [
    "eval_F = features.extract(dcase2018bad.wav_urls(evalset))\n",
    "eval_F = eval_F.persist()\n",
    "eval_F"
   ]
  },
  {
   "cell_type": "code",
   "execution_count": 30,
   "metadata": {},
   "outputs": [
    {
     "data": {
      "text/plain": [
       "(12650, 64)"
      ]
     },
     "execution_count": 30,
     "metadata": {},
     "output_type": "execute_result"
    }
   ],
   "source": [
    "eval_X = eval_F.compute()\n",
    "eval_X.shape"
   ]
  },
  {
   "cell_type": "code",
   "execution_count": 34,
   "metadata": {},
   "outputs": [],
   "source": [
    "eval_X = eval_X[:12620]"
   ]
  },
  {
   "cell_type": "code",
   "execution_count": 41,
   "metadata": {},
   "outputs": [
    {
     "name": "stdout",
     "output_type": "stream",
     "text": [
      "submission.csv\n"
     ]
    }
   ],
   "source": [
    "def make_submission():\n",
    "    df = pandas.DataFrame({\n",
    "        'item': evalset.itemid,\n",
    "        'prediction': rf.predict_proba(eval_X)[:,1].astype('float'),\n",
    "    })\n",
    "    df = df.sort_values(by='item')\n",
    "\n",
    "    f = 'submission.csv'\n",
    "    df.to_csv(f, index=False, header=False)\n",
    "    return f\n",
    "    \n",
    "print(make_submission())"
   ]
  },
  {
   "cell_type": "code",
   "execution_count": null,
   "metadata": {},
   "outputs": [],
   "source": []
  }
 ],
 "metadata": {
  "kernelspec": {
   "display_name": "Python 3",
   "language": "python",
   "name": "python3"
  },
  "language_info": {
   "codemirror_mode": {
    "name": "ipython",
    "version": 3
   },
   "file_extension": ".py",
   "mimetype": "text/x-python",
   "name": "python",
   "nbconvert_exporter": "python",
   "pygments_lexer": "ipython3",
   "version": "3.7.0"
  }
 },
 "nbformat": 4,
 "nbformat_minor": 2
}
