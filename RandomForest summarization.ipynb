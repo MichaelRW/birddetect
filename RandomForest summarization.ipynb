{
 "cells": [
  {
   "cell_type": "markdown",
   "metadata": {},
   "source": [
    "# RandomForest on mel-spectrogram summarization\n",
    "\n",
    "This is very close to the `melspec-maxp` (max summarization) baseline model in [Automatic large-scale classification of bird sounds is strongly improved by unsupervised feature learning](https://peerj.com/articles/488/) (Dan Stowell, Mark D. Plumbley)\n"
   ]
  },
  {
   "cell_type": "code",
   "execution_count": 15,
   "metadata": {},
   "outputs": [
    {
     "name": "stdout",
     "output_type": "stream",
     "text": [
      "The autoreload extension is already loaded. To reload it, use:\n",
      "  %reload_ext autoreload\n"
     ]
    }
   ],
   "source": [
    "%matplotlib inline\n",
    "%load_ext autoreload\n",
    "%autoreload 2\n",
    "\n",
    "import time\n",
    "\n",
    "import numpy\n",
    "import pandas\n",
    "import matplotlib.pyplot as plt\n",
    "\n",
    "import sklearn\n",
    "from sklearn.pipeline import Pipeline, make_pipeline\n",
    "from sklearn.ensemble import RandomForestClassifier\n",
    "from sklearn import model_selection\n",
    "from sklearn import metrics\n",
    "\n",
    "# Custom modules\n",
    "import dcase2018bird\n",
    "import features"
   ]
  },
  {
   "cell_type": "markdown",
   "metadata": {},
   "source": [
    "# Load dataset"
   ]
  },
  {
   "cell_type": "code",
   "execution_count": 2,
   "metadata": {},
   "outputs": [
    {
     "name": "stdout",
     "output_type": "stream",
     "text": [
      "(48310, 4)\n"
     ]
    },
    {
     "data": {
      "text/html": [
       "<div>\n",
       "<style scoped>\n",
       "    .dataframe tbody tr th:only-of-type {\n",
       "        vertical-align: middle;\n",
       "    }\n",
       "\n",
       "    .dataframe tbody tr th {\n",
       "        vertical-align: top;\n",
       "    }\n",
       "\n",
       "    .dataframe thead th {\n",
       "        text-align: right;\n",
       "    }\n",
       "</style>\n",
       "<table border=\"1\" class=\"dataframe\">\n",
       "  <thead>\n",
       "    <tr style=\"text-align: right;\">\n",
       "      <th></th>\n",
       "      <th>itemid</th>\n",
       "      <th>datasetid</th>\n",
       "      <th>hasbird</th>\n",
       "      <th>folder</th>\n",
       "    </tr>\n",
       "  </thead>\n",
       "  <tbody>\n",
       "    <tr>\n",
       "      <th>0</th>\n",
       "      <td>BUK4_20161103_204504_125</td>\n",
       "      <td>PolandNFC</td>\n",
       "      <td>NaN</td>\n",
       "      <td>polandnfc</td>\n",
       "    </tr>\n",
       "    <tr>\n",
       "      <th>1</th>\n",
       "      <td>BUK4_20161016_012704_132</td>\n",
       "      <td>PolandNFC</td>\n",
       "      <td>NaN</td>\n",
       "      <td>polandnfc</td>\n",
       "    </tr>\n",
       "    <tr>\n",
       "      <th>2</th>\n",
       "      <td>6wichura_deszcz_BUK4_20161005_022304_129</td>\n",
       "      <td>PolandNFC</td>\n",
       "      <td>NaN</td>\n",
       "      <td>polandnfc</td>\n",
       "    </tr>\n",
       "  </tbody>\n",
       "</table>\n",
       "</div>"
      ],
      "text/plain": [
       "                                     itemid  datasetid  hasbird     folder\n",
       "0                  BUK4_20161103_204504_125  PolandNFC      NaN  polandnfc\n",
       "1                  BUK4_20161016_012704_132  PolandNFC      NaN  polandnfc\n",
       "2  6wichura_deszcz_BUK4_20161005_022304_129  PolandNFC      NaN  polandnfc"
      ]
     },
     "execution_count": 2,
     "metadata": {},
     "output_type": "execute_result"
    }
   ],
   "source": [
    "dataset = dcase2018bird.load_dataset()\n",
    "print(dataset.shape)\n",
    "dataset.head(3)"
   ]
  },
  {
   "cell_type": "code",
   "execution_count": 3,
   "metadata": {},
   "outputs": [
    {
     "data": {
      "text/plain": [
       "array(['PolandNFC', 'BirdVox-DCASE-20k', 'chern', 'ff1010bird',\n",
       "       'warblrb10k', 'wabrlrb10k_test'], dtype=object)"
      ]
     },
     "execution_count": 3,
     "metadata": {},
     "output_type": "execute_result"
    }
   ],
   "source": [
    "dataset.datasetid.unique()"
   ]
  },
  {
   "cell_type": "markdown",
   "metadata": {},
   "source": [
    "## Split training and evaluation data\n",
    "No labels available for evaluation, they are the thing to predict in competition"
   ]
  },
  {
   "cell_type": "code",
   "execution_count": 4,
   "metadata": {},
   "outputs": [
    {
     "name": "stdout",
     "output_type": "stream",
     "text": [
      "(35690, 4)\n"
     ]
    }
   ],
   "source": [
    "trainset = dataset[dataset.hasbird.notna()].copy()\n",
    "print(trainset.shape)\n",
    "trainset['hasbird'] = trainset.hasbird.astype(bool)\n",
    "#trainset.groupby('folder').head(1)"
   ]
  },
  {
   "cell_type": "code",
   "execution_count": 5,
   "metadata": {},
   "outputs": [
    {
     "name": "stdout",
     "output_type": "stream",
     "text": [
      "(12620, 4)\n"
     ]
    }
   ],
   "source": [
    "evalset = dataset[dataset.hasbird.isna()].copy()\n",
    "print(evalset.shape)\n",
    "#evalset.groupby('folder').head(1)"
   ]
  },
  {
   "cell_type": "markdown",
   "metadata": {},
   "source": [
    "# Load features"
   ]
  },
  {
   "cell_type": "code",
   "execution_count": 60,
   "metadata": {},
   "outputs": [
    {
     "data": {
      "text/plain": [
       "(10, 3, 64)"
      ]
     },
     "execution_count": 60,
     "metadata": {},
     "output_type": "execute_result"
    }
   ],
   "source": []
  },
  {
   "cell_type": "code",
   "execution_count": 56,
   "metadata": {},
   "outputs": [
    {
     "name": "stdout",
     "output_type": "stream",
     "text": [
      "d 122.5700409412384\n"
     ]
    }
   ],
   "source": [
    "start = time.time()\n",
    "F = train_F.compute()\n",
    "end = time.time()\n",
    "print('d', end-start)"
   ]
  },
  {
   "cell_type": "markdown",
   "metadata": {},
   "source": [
    "### Compute features"
   ]
  },
  {
   "cell_type": "markdown",
   "metadata": {},
   "source": [
    "# Model"
   ]
  },
  {
   "cell_type": "code",
   "execution_count": 58,
   "metadata": {},
   "outputs": [
    {
     "name": "stdout",
     "output_type": "stream",
     "text": [
      "Starting train (700, 64) 0.4742857142857143\n",
      "Train time 0.7555375099182129\n",
      "train [0.83128278 0.82412263 0.7977068  0.80687007 0.8445413 ]\n",
      "test [0.70588235 0.74400871 0.70145903 0.67715618 0.72727273]\n"
     ]
    }
   ],
   "source": [
    "train_X = F[:,0]\n",
    "train_Y = trainset[0:1000].hasbird\n",
    "rf = make_pipeline(\n",
    "    RandomForestClassifier(n_estimators=100, min_samples_leaf=2, random_state=1),\n",
    ")\n",
    "\n",
    "X_train, X_test, Y_train, Y_test = \\\n",
    "  model_selection.train_test_split(train_X, train_Y, test_size=0.3)\n",
    "\n",
    "start = time.time()\n",
    "print('Starting train', X_train.shape, numpy.mean(Y_train))\n",
    "rf.fit(X_train, Y_train)\n",
    "end = time.time()\n",
    "print('Train time', end-start)\n",
    "\n",
    "print('train', model_selection.cross_val_score(rf, X_train, Y_train, scoring='roc_auc', cv=5))\n",
    "print('test', model_selection.cross_val_score(rf, X_test, Y_test, scoring='roc_auc', cv=5))\n"
   ]
  },
  {
   "cell_type": "code",
   "execution_count": null,
   "metadata": {},
   "outputs": [],
   "source": []
  }
 ],
 "metadata": {
  "kernelspec": {
   "display_name": "Python 3",
   "language": "python",
   "name": "python3"
  },
  "language_info": {
   "codemirror_mode": {
    "name": "ipython",
    "version": 3
   },
   "file_extension": ".py",
   "mimetype": "text/x-python",
   "name": "python",
   "nbconvert_exporter": "python",
   "pygments_lexer": "ipython3",
   "version": "3.7.1"
  }
 },
 "nbformat": 4,
 "nbformat_minor": 2
}
